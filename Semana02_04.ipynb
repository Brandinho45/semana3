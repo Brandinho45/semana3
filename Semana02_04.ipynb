{
  "nbformat": 4,
  "nbformat_minor": 0,
  "metadata": {
    "colab": {
      "provenance": []
    },
    "kernelspec": {
      "name": "python3",
      "display_name": "Python 3"
    },
    "language_info": {
      "name": "python"
    }
  },
  "cells": [
    {
      "cell_type": "code",
      "execution_count": null,
      "metadata": {
        "id": "fA2eYfBL8fXj"
      },
      "outputs": [],
      "source": []
    },
    {
      "cell_type": "markdown",
      "source": [
        "#Semana 03\n",
        "#Brandon Jame Isla Cconislla\n"
      ],
      "metadata": {
        "id": "xLF41kjG8i40"
      }
    },
    {
      "cell_type": "markdown",
      "source": [
        "Temas:\n",
        "  1. Números\n",
        "  2. Variables\n",
        "  3. Manejo de Cadenas\n",
        "  4. Ingreso de datos por teclado\n",
        "  5. Operadores"
      ],
      "metadata": {
        "id": "kHRqhMF88llb"
      }
    },
    {
      "cell_type": "markdown",
      "source": [
        "4. Ingreso de datos por el teclado"
      ],
      "metadata": {
        "id": "wvp4Mt-G8zjz"
      }
    },
    {
      "cell_type": "code",
      "source": [
        " # Funcion input()\n",
        " print(\"¿Cual es tu nombre?\")\n",
        " nombre=input()\n",
        " print(\"hola \" + nombre)"
      ],
      "metadata": {
        "colab": {
          "base_uri": "https://localhost:8080/"
        },
        "id": "sJDIkmeW85L7",
        "outputId": "bfc2d5a4-8184-49ba-fa62-8b449fadae97"
      },
      "execution_count": 2,
      "outputs": [
        {
          "output_type": "stream",
          "name": "stdout",
          "text": [
            "¿Cual es tu nombre?\n",
            "Brandon\n",
            "hola Brandon\n"
          ]
        }
      ]
    },
    {
      "cell_type": "code",
      "source": [
        "#Cuando ingresa un valor por teclado lo hace como cadena\n",
        "print(\"numero1: \")\n",
        "numero1=input()\n",
        "print(\"numero2: \")\n",
        "numero2=input()\n",
        "numero3=int(numero1)+int(numero2)\n",
        "print(f\"El resultado es {numero3}\")"
      ],
      "metadata": {
        "colab": {
          "base_uri": "https://localhost:8080/"
        },
        "id": "3ApayAQ19eZD",
        "outputId": "47ee615a-1326-4151-f1d6-db947f8b4074"
      },
      "execution_count": 4,
      "outputs": [
        {
          "output_type": "stream",
          "name": "stdout",
          "text": [
            "numero1: \n",
            "5\n",
            "numero2: \n",
            "6\n",
            "El resultado es 11\n"
          ]
        }
      ]
    },
    {
      "cell_type": "code",
      "source": [],
      "metadata": {
        "id": "mbRkFVgy-fTy"
      },
      "execution_count": null,
      "outputs": []
    }
  ]
}