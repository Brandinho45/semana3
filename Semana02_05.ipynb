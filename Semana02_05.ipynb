{
  "nbformat": 4,
  "nbformat_minor": 0,
  "metadata": {
    "colab": {
      "provenance": []
    },
    "kernelspec": {
      "name": "python3",
      "display_name": "Python 3"
    },
    "language_info": {
      "name": "python"
    }
  },
  "cells": [
    {
      "cell_type": "markdown",
      "source": [
        "#Semana 03\n",
        "#Brandon Jame Isla Cconislla"
      ],
      "metadata": {
        "id": "AVAVqMOwAH0w"
      }
    },
    {
      "cell_type": "code",
      "source": [],
      "metadata": {
        "id": "7eIp_rOgALsg"
      },
      "execution_count": null,
      "outputs": []
    },
    {
      "cell_type": "markdown",
      "source": [
        "Temas:\n",
        "  1. Números\n",
        "  2. Variables\n",
        "  3. Manejo de Cadenas\n",
        "  4. Ingreso de datos por teclado\n",
        "  5. Operadores\n",
        "  "
      ],
      "metadata": {
        "id": "Mk-le0TyANZQ"
      }
    },
    {
      "cell_type": "markdown",
      "source": [
        "5. Operadores"
      ],
      "metadata": {
        "id": "Jt7HBfQrASQJ"
      }
    },
    {
      "cell_type": "code",
      "source": [
        "# 5.1 Operadores aritmeticos\n",
        "# Se tiene: +, -, *, /, **, %, //"
      ],
      "metadata": {
        "id": "jj8k0izgAT8Y"
      },
      "execution_count": null,
      "outputs": []
    },
    {
      "cell_type": "code",
      "source": [
        "n1=10\n",
        "n2=3\n",
        "suma=n1+n2\n",
        "resta=n1-n2\n",
        "multiplicacion=n1*n2\n",
        "division=n1/n2\n",
        "residuo=n1%n2\n",
        "cociente=n1//n2\n",
        "potencia=n1**n2\n",
        "print(suma)\n",
        "print(resta)\n",
        "print(multiplicacion)\n",
        "print(division)\n",
        "print(residuo)\n",
        "print(cociente)\n",
        "print(potencia)"
      ],
      "metadata": {
        "id": "b-a_EpIRAhuZ",
        "colab": {
          "base_uri": "https://localhost:8080/"
        },
        "outputId": "c3ca08ef-488d-42f9-81ca-7b2db1190886"
      },
      "execution_count": 2,
      "outputs": [
        {
          "output_type": "stream",
          "name": "stdout",
          "text": [
            "13\n",
            "7\n",
            "30\n",
            "3.3333333333333335\n",
            "1\n",
            "3\n",
            "1000\n"
          ]
        }
      ]
    },
    {
      "cell_type": "code",
      "source": [
        "#5.2 Operaciones de asignacion\n",
        "#Se tiene: =, +=, -=, *=, /=, **=\n",
        "num=5\n",
        "num = num+3\n",
        "print(num)"
      ],
      "metadata": {
        "colab": {
          "base_uri": "https://localhost:8080/"
        },
        "id": "9-uHKi95BiX3",
        "outputId": "8afce07b-a7e3-4b99-9ff7-c97b9f53241d"
      },
      "execution_count": 3,
      "outputs": [
        {
          "output_type": "stream",
          "name": "stdout",
          "text": [
            "8\n"
          ]
        }
      ]
    },
    {
      "cell_type": "code",
      "source": [
        "num=5\n",
        "num +=3\n",
        "print(num)"
      ],
      "metadata": {
        "colab": {
          "base_uri": "https://localhost:8080/"
        },
        "id": "qLZWARh9DHrA",
        "outputId": "f99d4e01-a04b-41cb-8bbc-ea990dd6be76"
      },
      "execution_count": 4,
      "outputs": [
        {
          "output_type": "stream",
          "name": "stdout",
          "text": [
            "8\n"
          ]
        }
      ]
    },
    {
      "cell_type": "code",
      "source": [
        "num = 5\n",
        "num= num**3\n",
        "print(num)"
      ],
      "metadata": {
        "colab": {
          "base_uri": "https://localhost:8080/"
        },
        "id": "40d73diADL1P",
        "outputId": "e029f95e-0537-4902-ea7c-09363f392b24"
      },
      "execution_count": 5,
      "outputs": [
        {
          "output_type": "stream",
          "name": "stdout",
          "text": [
            "125\n"
          ]
        }
      ]
    },
    {
      "cell_type": "code",
      "source": [
        "num = 5\n",
        "num= num**-3\n",
        "print(num)"
      ],
      "metadata": {
        "colab": {
          "base_uri": "https://localhost:8080/"
        },
        "id": "Qt40-e_DDTpe",
        "outputId": "40bcd2ae-b565-4621-c886-77b6ffa3db4b"
      },
      "execution_count": 6,
      "outputs": [
        {
          "output_type": "stream",
          "name": "stdout",
          "text": [
            "0.008\n"
          ]
        }
      ]
    },
    {
      "cell_type": "code",
      "source": [
        "#5.3 Operaciones de comparacion\n",
        "# Se tiene: ==, !=, <, >, <=, >="
      ],
      "metadata": {
        "id": "Mg-7nNQuDYrm"
      },
      "execution_count": 7,
      "outputs": []
    },
    {
      "cell_type": "code",
      "source": [
        "n1=5\n",
        "n2=2\n",
        "n1==n2"
      ],
      "metadata": {
        "colab": {
          "base_uri": "https://localhost:8080/"
        },
        "id": "5r_8X3hrDtau",
        "outputId": "5605be8d-23ad-4e22-fae0-e404680eb528"
      },
      "execution_count": 8,
      "outputs": [
        {
          "output_type": "execute_result",
          "data": {
            "text/plain": [
              "False"
            ]
          },
          "metadata": {},
          "execution_count": 8
        }
      ]
    },
    {
      "cell_type": "code",
      "source": [
        "#Cadenas\n",
        "n1=\"Juan\"\n",
        "n2=\"Juan\"\n",
        "n1==n2"
      ],
      "metadata": {
        "colab": {
          "base_uri": "https://localhost:8080/"
        },
        "id": "IG6Lk6ASDx-2",
        "outputId": "8aa9d7be-55f0-435c-c819-460bb49e2b85"
      },
      "execution_count": 9,
      "outputs": [
        {
          "output_type": "execute_result",
          "data": {
            "text/plain": [
              "True"
            ]
          },
          "metadata": {},
          "execution_count": 9
        }
      ]
    },
    {
      "cell_type": "code",
      "source": [
        "#5.4 Operadores Logicos\n",
        "# Se tiene: and, or, not\n",
        "n1=5\n",
        "n2=6\n",
        "n3=7\n",
        "n4=8"
      ],
      "metadata": {
        "id": "yrnnYi6tD8Xm"
      },
      "execution_count": 10,
      "outputs": []
    },
    {
      "cell_type": "code",
      "source": [
        "n1<n2\n"
      ],
      "metadata": {
        "colab": {
          "base_uri": "https://localhost:8080/"
        },
        "id": "fB08LAzmEWTd",
        "outputId": "7189098a-00b2-4e7d-b314-510369cd2631"
      },
      "execution_count": 11,
      "outputs": [
        {
          "output_type": "execute_result",
          "data": {
            "text/plain": [
              "True"
            ]
          },
          "metadata": {},
          "execution_count": 11
        }
      ]
    },
    {
      "cell_type": "code",
      "source": [
        "n4>n3"
      ],
      "metadata": {
        "colab": {
          "base_uri": "https://localhost:8080/"
        },
        "id": "4LR8jDMFEYfN",
        "outputId": "2c8678e7-5004-46e2-b6c9-123d3854b3f8"
      },
      "execution_count": 12,
      "outputs": [
        {
          "output_type": "execute_result",
          "data": {
            "text/plain": [
              "True"
            ]
          },
          "metadata": {},
          "execution_count": 12
        }
      ]
    },
    {
      "cell_type": "code",
      "source": [
        "n3>n4\n"
      ],
      "metadata": {
        "colab": {
          "base_uri": "https://localhost:8080/"
        },
        "id": "S2OrOM6OEa0t",
        "outputId": "f7e74f59-027e-4edb-d196-41dd32a674ee"
      },
      "execution_count": 13,
      "outputs": [
        {
          "output_type": "execute_result",
          "data": {
            "text/plain": [
              "False"
            ]
          },
          "metadata": {},
          "execution_count": 13
        }
      ]
    },
    {
      "cell_type": "code",
      "source": [
        "# El not invierte el resultado\n",
        "not(n1<n2)"
      ],
      "metadata": {
        "colab": {
          "base_uri": "https://localhost:8080/"
        },
        "id": "0Oo4Qgz3Eg62",
        "outputId": "5a8c101c-77aa-41a6-de0c-3c61d2d0d823"
      },
      "execution_count": 14,
      "outputs": [
        {
          "output_type": "execute_result",
          "data": {
            "text/plain": [
              "False"
            ]
          },
          "metadata": {},
          "execution_count": 14
        }
      ]
    },
    {
      "cell_type": "code",
      "source": [
        "(n1<n2 and n3<n4) or (n3>n4)\n"
      ],
      "metadata": {
        "colab": {
          "base_uri": "https://localhost:8080/"
        },
        "id": "Ky8sRO5wE8i9",
        "outputId": "039bf910-9ad1-40ac-d390-3fbb2a121e9b"
      },
      "execution_count": 15,
      "outputs": [
        {
          "output_type": "execute_result",
          "data": {
            "text/plain": [
              "True"
            ]
          },
          "metadata": {},
          "execution_count": 15
        }
      ]
    },
    {
      "cell_type": "code",
      "source": [
        "#5.5 Operadores de pertenencia\n",
        "# Se tiene: in, not, in"
      ],
      "metadata": {
        "id": "yycm8zSBFHkc"
      },
      "execution_count": 16,
      "outputs": []
    },
    {
      "cell_type": "code",
      "source": [
        "# Miremos un ejemplo:\n",
        "aula=[\"Juan\", \"Daniel\", \"Ruben\"]\n",
        "alumno1=\"Diego\"\n",
        "alumno2=\"Juan\""
      ],
      "metadata": {
        "id": "evSPs5B5FSpE"
      },
      "execution_count": 17,
      "outputs": []
    },
    {
      "cell_type": "code",
      "source": [
        "#¿Diego está en el aula?\n",
        "alumno1 in aula"
      ],
      "metadata": {
        "colab": {
          "base_uri": "https://localhost:8080/"
        },
        "id": "9Zgx7cWOFiiU",
        "outputId": "248d15f6-87a6-4b45-e4f2-09cee4512c1f"
      },
      "execution_count": 18,
      "outputs": [
        {
          "output_type": "execute_result",
          "data": {
            "text/plain": [
              "False"
            ]
          },
          "metadata": {},
          "execution_count": 18
        }
      ]
    },
    {
      "cell_type": "code",
      "source": [
        "#¿Juan esta en el aula?\n",
        "alumno2 in aula"
      ],
      "metadata": {
        "colab": {
          "base_uri": "https://localhost:8080/"
        },
        "id": "HGRrc6JwFoJ8",
        "outputId": "2e05d28b-b01a-41ac-8410-e16b5573d72d"
      },
      "execution_count": 19,
      "outputs": [
        {
          "output_type": "execute_result",
          "data": {
            "text/plain": [
              "True"
            ]
          },
          "metadata": {},
          "execution_count": 19
        }
      ]
    },
    {
      "cell_type": "code",
      "source": [
        "#¿Diego no esta en el aula?\n",
        "alumno1 not in aula"
      ],
      "metadata": {
        "colab": {
          "base_uri": "https://localhost:8080/"
        },
        "id": "Ndobrn-5Fv69",
        "outputId": "8cf3a878-7661-41ba-90f4-e244a77d4c7f"
      },
      "execution_count": 20,
      "outputs": [
        {
          "output_type": "execute_result",
          "data": {
            "text/plain": [
              "True"
            ]
          },
          "metadata": {},
          "execution_count": 20
        }
      ]
    },
    {
      "cell_type": "code",
      "source": [
        "#5.6 Operadores de identidad\n",
        "# Se tiene: is, is not"
      ],
      "metadata": {
        "id": "vYn5pygMF3C0"
      },
      "execution_count": 21,
      "outputs": []
    },
    {
      "cell_type": "code",
      "source": [
        "aula1=[\"Juan\", \"Daniel\", \"Ruben\"]\n",
        "aula2=[\"Juan\", \"Daniel\", \"Ruben\"]\n",
        "aula3=aula1"
      ],
      "metadata": {
        "id": "l1UnU7yTGAfU"
      },
      "execution_count": 22,
      "outputs": []
    },
    {
      "cell_type": "code",
      "source": [
        "#¿aula3 comparte el mismo objeto que aula1?\n",
        "aula3 is aula1\n"
      ],
      "metadata": {
        "colab": {
          "base_uri": "https://localhost:8080/"
        },
        "id": "xYR9SIkCGT28",
        "outputId": "6b2993be-e8c4-4840-cd51-9a81473c072f"
      },
      "execution_count": 23,
      "outputs": [
        {
          "output_type": "execute_result",
          "data": {
            "text/plain": [
              "True"
            ]
          },
          "metadata": {},
          "execution_count": 23
        }
      ]
    },
    {
      "cell_type": "code",
      "source": [
        "#¿aula2 comparte el mismo objeto que aula1?\n",
        "aula2 is aula1"
      ],
      "metadata": {
        "colab": {
          "base_uri": "https://localhost:8080/"
        },
        "id": "EOwydqK9Gb8k",
        "outputId": "450ae12f-749f-437f-e290-e27b0247a86f"
      },
      "execution_count": 24,
      "outputs": [
        {
          "output_type": "execute_result",
          "data": {
            "text/plain": [
              "False"
            ]
          },
          "metadata": {},
          "execution_count": 24
        }
      ]
    },
    {
      "cell_type": "code",
      "source": [
        "#¿aula2 comparte el mismo objeto que aula3?\n",
        "aula2 is aula3"
      ],
      "metadata": {
        "colab": {
          "base_uri": "https://localhost:8080/"
        },
        "id": "56nR8DliGnSE",
        "outputId": "aac10600-8c76-4055-fc7d-827f0efd2eef"
      },
      "execution_count": 25,
      "outputs": [
        {
          "output_type": "execute_result",
          "data": {
            "text/plain": [
              "False"
            ]
          },
          "metadata": {},
          "execution_count": 25
        }
      ]
    },
    {
      "cell_type": "code",
      "source": [
        "aula1.append(\"Diego\")\n"
      ],
      "metadata": {
        "id": "cjqRgRnjGq0T"
      },
      "execution_count": 26,
      "outputs": []
    },
    {
      "cell_type": "code",
      "source": [
        "print(aula1)\n",
        "print(aula2)\n",
        "print(aula3)"
      ],
      "metadata": {
        "colab": {
          "base_uri": "https://localhost:8080/"
        },
        "id": "slsECWMMG8Wr",
        "outputId": "b4543365-0b7b-4b88-d10c-c8e2e091873a"
      },
      "execution_count": 27,
      "outputs": [
        {
          "output_type": "stream",
          "name": "stdout",
          "text": [
            "['Juan', 'Daniel', 'Ruben', 'Diego']\n",
            "['Juan', 'Daniel', 'Ruben']\n",
            "['Juan', 'Daniel', 'Ruben', 'Diego']\n"
          ]
        }
      ]
    },
    {
      "cell_type": "code",
      "source": [],
      "metadata": {
        "id": "jF-CzuPQHCNj"
      },
      "execution_count": null,
      "outputs": []
    }
  ]
}