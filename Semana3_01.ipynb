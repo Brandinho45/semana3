{
  "nbformat": 4,
  "nbformat_minor": 0,
  "metadata": {
    "colab": {
      "provenance": []
    },
    "kernelspec": {
      "name": "python3",
      "display_name": "Python 3"
    },
    "language_info": {
      "name": "python"
    }
  },
  "cells": [
    {
      "cell_type": "code",
      "execution_count": 1,
      "metadata": {
        "colab": {
          "base_uri": "https://localhost:8080/"
        },
        "id": "Qm885yjQM9-6",
        "outputId": "60c2e210-0887-4585-d84c-b91e8c20ada1"
      },
      "outputs": [
        {
          "output_type": "stream",
          "name": "stdout",
          "text": [
            "['Figueroa', 'García', 'Gutierrez', 'Isla']\n"
          ]
        }
      ],
      "source": [
        "# 1. Colecciones\n",
        "# 1.1 Listas\n",
        "# Es un coleccion de elementos que puede ser ordenada, modificado, etc.\n",
        "# Se identifica por los corchetes\n",
        "aula=[\"Figueroa\",\"García\",\"Gutierrez\",\"Isla\"]\n",
        "print(aula)"
      ]
    },
    {
      "cell_type": "code",
      "source": [
        "print(aula[0])\n",
        "print(aula[1])"
      ],
      "metadata": {
        "colab": {
          "base_uri": "https://localhost:8080/"
        },
        "id": "DQTjLhG_NmR4",
        "outputId": "8b4efc0a-f951-46b4-e923-1cabd0ef4104"
      },
      "execution_count": 2,
      "outputs": [
        {
          "output_type": "stream",
          "name": "stdout",
          "text": [
            "Figueroa\n",
            "García\n"
          ]
        }
      ]
    },
    {
      "cell_type": "code",
      "source": [
        "aula.append(\"Luque\")"
      ],
      "metadata": {
        "id": "BfNcEM9UNz-n"
      },
      "execution_count": 3,
      "outputs": []
    },
    {
      "cell_type": "code",
      "source": [
        "aula.append(\"Mamani\")"
      ],
      "metadata": {
        "id": "4rY7rZ97OONn"
      },
      "execution_count": 4,
      "outputs": []
    },
    {
      "cell_type": "code",
      "source": [
        "aula"
      ],
      "metadata": {
        "colab": {
          "base_uri": "https://localhost:8080/"
        },
        "id": "ifOAr4R_OSQn",
        "outputId": "faba980e-8aa1-40b7-9d04-039ff1b78225"
      },
      "execution_count": 5,
      "outputs": [
        {
          "output_type": "execute_result",
          "data": {
            "text/plain": [
              "['Figueroa', 'García', 'Gutierrez', 'Isla', 'Luque', 'Mamani']"
            ]
          },
          "metadata": {},
          "execution_count": 5
        }
      ]
    },
    {
      "cell_type": "code",
      "source": [
        "len(aula)"
      ],
      "metadata": {
        "colab": {
          "base_uri": "https://localhost:8080/"
        },
        "id": "ZWAEBe-LObYv",
        "outputId": "f774ad6e-252d-4571-f913-25d2b07f7de2"
      },
      "execution_count": 6,
      "outputs": [
        {
          "output_type": "execute_result",
          "data": {
            "text/plain": [
              "6"
            ]
          },
          "metadata": {},
          "execution_count": 6
        }
      ]
    },
    {
      "cell_type": "code",
      "source": [
        "for alumno in aula:\n",
        "  print(alumno)"
      ],
      "metadata": {
        "colab": {
          "base_uri": "https://localhost:8080/"
        },
        "id": "L3tqGEx_Odvn",
        "outputId": "42c7cbd7-ca8e-4531-881f-80bb3f45bb7a"
      },
      "execution_count": 9,
      "outputs": [
        {
          "output_type": "stream",
          "name": "stdout",
          "text": [
            "Figueroa\n",
            "García\n",
            "Gutierrez\n",
            "Isla\n",
            "Luque\n",
            "Mamani\n"
          ]
        }
      ]
    },
    {
      "cell_type": "code",
      "source": [
        "aula.reverse()"
      ],
      "metadata": {
        "id": "9_mzJ8cIOiJ2"
      },
      "execution_count": 10,
      "outputs": []
    },
    {
      "cell_type": "code",
      "source": [
        "aula"
      ],
      "metadata": {
        "colab": {
          "base_uri": "https://localhost:8080/"
        },
        "id": "0iyqb09xPAY2",
        "outputId": "eda80c81-2a3f-4b62-916f-2328a9e7ad09"
      },
      "execution_count": 11,
      "outputs": [
        {
          "output_type": "execute_result",
          "data": {
            "text/plain": [
              "['Mamani', 'Luque', 'Isla', 'Gutierrez', 'García', 'Figueroa']"
            ]
          },
          "metadata": {},
          "execution_count": 11
        }
      ]
    },
    {
      "cell_type": "code",
      "source": [],
      "metadata": {
        "id": "PCh0Qn_1PCT2"
      },
      "execution_count": null,
      "outputs": []
    }
  ]
}